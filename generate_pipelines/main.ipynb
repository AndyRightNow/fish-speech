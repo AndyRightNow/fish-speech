{
  "cells": [
    {
      "cell_type": "markdown",
      "metadata": {
        "id": "Bzlp8kGlBYXL"
      },
      "source": [
        "# Clone Repo"
      ]
    },
    {
      "cell_type": "code",
      "execution_count": null,
      "metadata": {
        "vscode": {
          "languageId": "shellscript"
        },
        "id": "dloLP2NnBYXM"
      },
      "outputs": [],
      "source": [
        "!git clone https://github.com/AndyRightNow/fish-speech.git\n",
        "%cd fish-speech\n",
        "!git checkout andy"
      ]
    },
    {
      "cell_type": "markdown",
      "metadata": {
        "id": "Ly2dfMd5BYXM"
      },
      "source": [
        "# Install `uv`"
      ]
    },
    {
      "cell_type": "code",
      "execution_count": null,
      "metadata": {
        "vscode": {
          "languageId": "shellscript"
        },
        "id": "HJk1Gww7BYXN"
      },
      "outputs": [],
      "source": [
        "!curl -LsSf https://astral.sh/uv/install.sh | sh\n",
        "!source $HOME/.local/bin/env"
      ]
    },
    {
      "cell_type": "markdown",
      "metadata": {
        "id": "K_jvrfEHBYXN"
      },
      "source": [
        "# Install global dependencies"
      ]
    },
    {
      "cell_type": "code",
      "execution_count": null,
      "metadata": {
        "vscode": {
          "languageId": "shellscript"
        },
        "id": "9JJtW27kBYXN"
      },
      "outputs": [],
      "source": [
        "!uv pip install --system torch==2.4.1 torchvision==0.19.1 torchaudio==2.4.1 m4b-util==0.4.1\n",
        "\n",
        "\n",
        "!apt install libsox-dev ffmpeg\n",
        "\n",
        "!apt install build-essential \\\n",
        "    cmake \\\n",
        "    libasound-dev \\\n",
        "    portaudio19-dev \\\n",
        "    libportaudio2 \\\n",
        "    libportaudiocpp0"
      ]
    },
    {
      "cell_type": "markdown",
      "metadata": {
        "id": "ShSi69a_BYXN"
      },
      "source": [
        "# Install project dependencies"
      ]
    },
    {
      "cell_type": "code",
      "execution_count": null,
      "metadata": {
        "vscode": {
          "languageId": "shellscript"
        },
        "id": "XmeDCjFOBYXN"
      },
      "outputs": [],
      "source": [
        "!uv pip install --system -e .[stable]"
      ]
    },
    {
      "cell_type": "markdown",
      "metadata": {
        "id": "xy5zI9KwBYXN"
      },
      "source": [
        "# Download checkpoints"
      ]
    },
    {
      "cell_type": "code",
      "execution_count": null,
      "metadata": {
        "vscode": {
          "languageId": "shellscript"
        },
        "id": "h_LhkeowBYXN"
      },
      "outputs": [],
      "source": [
        "from google.colab import userdata\n",
        "huggingface_token = userdata.get('huggingfaceToken')\n",
        "\n",
        "!uv pip install --system -U \"huggingface_hub[cli]\"\n",
        "!huggingface-cli login $huggingface_token\n",
        "!huggingface-cli download fishaudio/fish-speech-1.5 --local-dir checkpoints/fish-speech-1.5"
      ]
    },
    {
      "cell_type": "markdown",
      "metadata": {
        "id": "c0hE4aCWBYXN"
      },
      "source": [
        "# Upload input files"
      ]
    },
    {
      "cell_type": "code",
      "execution_count": null,
      "metadata": {
        "vscode": {
          "languageId": "shellscript"
        },
        "id": "Qzuayx0NBYXN"
      },
      "outputs": [],
      "source": [
        "%cd generate_pipelines\n",
        "!mkdir input\n",
        "%cd input"
      ]
    },
    {
      "cell_type": "code",
      "execution_count": null,
      "metadata": {
        "id": "FPuETpAgBYXN"
      },
      "outputs": [],
      "source": [
        "from google.colab import files\n",
        "\n",
        "uploaded = files.upload()\n",
        "\n",
        "for fn in uploaded.keys():\n",
        "  print('User uploaded file \"{name}\" with length {length} bytes'.format(\n",
        "      name=fn, length=len(uploaded[fn])))"
      ]
    },
    {
      "cell_type": "code",
      "execution_count": null,
      "metadata": {
        "vscode": {
          "languageId": "shellscript"
        },
        "id": "kTP7KYxfBYXN"
      },
      "outputs": [],
      "source": [
        "%cd ../../"
      ]
    },
    {
      "cell_type": "markdown",
      "metadata": {
        "id": "gxETuQwLBYXN"
      },
      "source": [
        "# Run generate script"
      ]
    },
    {
      "cell_type": "code",
      "execution_count": null,
      "metadata": {
        "id": "xWByH46tBYXO"
      },
      "outputs": [],
      "source": [
        "#@title Archived scripts\n",
        "\n",
        "# !python generate_pipelines/main.py --prompt-name tifa --input-name we-after-everything --insert-segment-title true --segment-title-language en --max-sem-input-count 2500\n",
        "# !python generate_pipelines/convert_mp3.py --input-name we-after-everything --prompt-name tifa --max-sem-input-count 2500\n",
        "# !python generate_pipelines/convert_mp3.py --input-name hengxingshike --prompt-name weisan\n",
        "\n",
        "# ------------------------------------ Archived ------------------------------------\n"
      ]
    },
    {
      "cell_type": "code",
      "execution_count": null,
      "metadata": {
        "vscode": {
          "languageId": "shellscript"
        },
        "id": "4bBk0-7gBYXO"
      },
      "outputs": [],
      "source": [
        "# Run scripts here\n",
        "\n",
        "# !python generate_pipelines/main.py --prompt-name weisan --input-name hengxingshike --start-segment-index 87 --generate-mp3"
      ]
    },
    {
      "cell_type": "markdown",
      "metadata": {
        "id": "PSruRlDfBYXO"
      },
      "source": [
        "# Bundle to audiobook"
      ]
    },
    {
      "cell_type": "code",
      "execution_count": null,
      "metadata": {
        "id": "jAslcG8NBYXO"
      },
      "outputs": [],
      "source": [
        "# !python -m m4b_util bind generate_pipelines\\output\\mp3\\{hash} -o generate_pipelines\\output -t \"{title}\" --use-filename"
      ]
    },
    {
      "cell_type": "markdown",
      "metadata": {
        "id": "m-Seyj1IBYXO"
      },
      "source": [
        "# Download audiobook"
      ]
    },
    {
      "cell_type": "code",
      "execution_count": null,
      "metadata": {
        "id": "2rP_7wqLBYXO"
      },
      "outputs": [],
      "source": [
        "from google.colab import files\n",
        "\n",
        "\n",
        "file_name = '' # @param {type: \"string\"}\n",
        "\n",
        "if file_name:\n",
        "  files.download(f'generate_pipelines/output/mp3/{file_name}.m4b')"
      ]
    }
  ],
  "metadata": {
    "kernelspec": {
      "display_name": "Python 3",
      "language": "python",
      "name": "python3"
    },
    "language_info": {
      "codemirror_mode": {
        "name": "ipython",
        "version": 3
      },
      "file_extension": ".py",
      "mimetype": "text/x-python",
      "name": "python",
      "nbconvert_exporter": "python",
      "pygments_lexer": "ipython3",
      "version": "3.10.14"
    },
    "colab": {
      "provenance": []
    }
  },
  "nbformat": 4,
  "nbformat_minor": 0
}